{
 "cells": [
  {
   "cell_type": "code",
   "execution_count": 28,
   "id": "4e7b7db5-16f3-4779-93bf-2bffda7e0d48",
   "metadata": {},
   "outputs": [],
   "source": [
    "\"\"\" Q1. Create one variable containing following type of data:\n",
    "(i) string\n",
    "(ii) list\n",
    "(iii) float\n",
    "(iv) tuple \"\"\"\n",
    "\n",
    "a = \"I am trying my best to code\"\n",
    "\n",
    "b = [26, 2.3, -8, True, 1-3j, \"python\"]\n",
    "\n",
    "c = 32.06\n",
    "\n",
    "d = (26, 2.3, -8, True, 1-3j, \"python\")"
   ]
  },
  {
   "cell_type": "code",
   "execution_count": 50,
   "id": "525c19a9-0860-4cf5-9dc9-2f8a35f3bf2c",
   "metadata": {},
   "outputs": [],
   "source": [
    "\"\"\" Q2. Given are some following variables containing data:\n",
    "(i) var1 = ‘ ‘\n",
    "(ii) var2 = ‘[ DS , ML , Python]’\n",
    "(iii) var3 = [ ‘DS’ , ’ML’ , ‘Python’ ]\n",
    "(iv) var4 = 1.\n",
    "What will be the data type of the above given variable. \"\"\"\n",
    "\n",
    "var1 = ''\n",
    "\n",
    "var2 = '[DS, ML, Python]'\n",
    "\n",
    "var3 = ['DS', 'ML', 'Python']\n",
    "\n",
    "var4 = 1"
   ]
  },
  {
   "cell_type": "code",
   "execution_count": 51,
   "id": "9187b5b8-b50a-4b99-a749-b26520efa528",
   "metadata": {},
   "outputs": [
    {
     "data": {
      "text/plain": [
       "str"
      ]
     },
     "execution_count": 51,
     "metadata": {},
     "output_type": "execute_result"
    }
   ],
   "source": [
    "type(var1)"
   ]
  },
  {
   "cell_type": "code",
   "execution_count": 52,
   "id": "d5055f56-1d41-4bf1-ad5d-b116c96ce55b",
   "metadata": {},
   "outputs": [
    {
     "data": {
      "text/plain": [
       "str"
      ]
     },
     "execution_count": 52,
     "metadata": {},
     "output_type": "execute_result"
    }
   ],
   "source": [
    "type(var2)"
   ]
  },
  {
   "cell_type": "code",
   "execution_count": 53,
   "id": "2a2fcc9c-f685-4c5e-bfc5-2e843951f2fd",
   "metadata": {},
   "outputs": [
    {
     "data": {
      "text/plain": [
       "list"
      ]
     },
     "execution_count": 53,
     "metadata": {},
     "output_type": "execute_result"
    }
   ],
   "source": [
    "type(var3)"
   ]
  },
  {
   "cell_type": "code",
   "execution_count": 61,
   "id": "2cd3c210-f2e4-4c5a-b3e7-6364028ab165",
   "metadata": {},
   "outputs": [
    {
     "data": {
      "text/plain": [
       "int"
      ]
     },
     "execution_count": 61,
     "metadata": {},
     "output_type": "execute_result"
    }
   ],
   "source": [
    "type(var4)"
   ]
  },
  {
   "cell_type": "code",
   "execution_count": 17,
   "id": "41bf41f6-e8b9-4cea-a605-8eda5ca0e5f3",
   "metadata": {},
   "outputs": [
    {
     "data": {
      "text/plain": [
       "5.2"
      ]
     },
     "execution_count": 17,
     "metadata": {},
     "output_type": "execute_result"
    }
   ],
   "source": [
    "\"\"\" Q3. Explain the use of the following operators using an example:\n",
    "\n",
    "(i) / : this operator is used for dividing.\n",
    "(ii) % : this operator gives remainder for the division and we use it for obtaining remainder for the operation.\n",
    "(iii) // : gives only the quotient value for the division not the remainder.\n",
    "(iv) ** : this operator is used for obtaining raised to the power value.\n",
    "\n",
    "Examples are : \"\"\"\n",
    "\n",
    "# (i) /\n",
    "26 / 5"
   ]
  },
  {
   "cell_type": "code",
   "execution_count": 73,
   "id": "1de35986-2065-424c-b28c-963bb2759aac",
   "metadata": {},
   "outputs": [
    {
     "data": {
      "text/plain": [
       "1"
      ]
     },
     "execution_count": 73,
     "metadata": {},
     "output_type": "execute_result"
    }
   ],
   "source": [
    "# (ii) %\n",
    "26 % 5"
   ]
  },
  {
   "cell_type": "code",
   "execution_count": 74,
   "id": "9428ca3a-f221-4576-b050-319f785a8e3c",
   "metadata": {},
   "outputs": [
    {
     "data": {
      "text/plain": [
       "5"
      ]
     },
     "execution_count": 74,
     "metadata": {},
     "output_type": "execute_result"
    }
   ],
   "source": [
    "# (iii) //\n",
    "26 // 5"
   ]
  },
  {
   "cell_type": "code",
   "execution_count": 75,
   "id": "6ba14b55-7743-4eac-9f8e-55aede22b605",
   "metadata": {},
   "outputs": [
    {
     "data": {
      "text/plain": [
       "25"
      ]
     },
     "execution_count": 75,
     "metadata": {},
     "output_type": "execute_result"
    }
   ],
   "source": [
    "# (iv) **\n",
    "5**2"
   ]
  },
  {
   "cell_type": "code",
   "execution_count": 88,
   "id": "c3c7fe5c-0118-4293-b7fe-8fcedcdab147",
   "metadata": {},
   "outputs": [
    {
     "name": "stdout",
     "output_type": "stream",
     "text": [
      "12\n",
      "<class 'int'>\n",
      "3.2\n",
      "<class 'float'>\n",
      "True\n",
      "<class 'bool'>\n",
      "PWskills\n",
      "<class 'str'>\n",
      "(3-8j)\n",
      "<class 'complex'>\n",
      "False\n",
      "<class 'bool'>\n",
      "22\n",
      "<class 'int'>\n",
      "-25\n",
      "<class 'int'>\n",
      "coding\n",
      "<class 'str'>\n",
      "-2.5\n",
      "<class 'float'>\n"
     ]
    }
   ],
   "source": [
    "\"\"\" Q4. Create a list of length 10 of your choice containing multiple types of data. Using for loop print the\n",
    "element and its data type. \"\"\"\n",
    "\n",
    "l = [12, 3.2, True, \"PWskills\", 3-8j, False, (22), -25, \"coding\", -2.5]\n",
    "for y in l :\n",
    "    print(y)\n",
    "    print(type(y))"
   ]
  },
  {
   "cell_type": "code",
   "execution_count": 3,
   "id": "b2745db0-e9c3-46f5-9ce7-176064dfe930",
   "metadata": {},
   "outputs": [
    {
     "name": "stdin",
     "output_type": "stream",
     "text": [
      "Enter a value for A: 396\n",
      "Enter a value for B: 3\n"
     ]
    },
    {
     "name": "stdout",
     "output_type": "stream",
     "text": [
      "A is divisible by B 1 times.\n",
      "A is divisible by B 2 times.\n",
      "A is not divisbile by B.\n"
     ]
    }
   ],
   "source": [
    "\"\"\" Q5. Using a while loop, verify if the number A is purely divisible by number B and if so then how many\n",
    "times it can be divisible. \"\"\"\n",
    "\n",
    "A = int(input(\"Enter a value for A:\"))\n",
    "B = int(input(\"Enter a value for B:\"))\n",
    "count = 0\n",
    "while A % B == 0:\n",
    "    A = A / B\n",
    "    count += 1\n",
    "    if count > 0:\n",
    "        print(\"A is divisible by B\", count, \"times.\")\n",
    "else:\n",
    "    print(\"A is not divisbile by B.\")"
   ]
  },
  {
   "cell_type": "code",
   "execution_count": 11,
   "id": "8aaa030a-b516-4ad4-81e0-8f971363851e",
   "metadata": {},
   "outputs": [
    {
     "name": "stdout",
     "output_type": "stream",
     "text": [
      "3 is divisible by 3\n",
      "6 is divisible by 3\n",
      "9 is divisible by 3\n",
      "12 is divisible by 3\n",
      "15 is divisible by 3\n",
      "18 is divisible by 3\n",
      "21 is divisible by 3\n",
      "24 is divisible by 3\n",
      "25 is not divisible by 3\n"
     ]
    }
   ],
   "source": [
    "\"\"\" Q6. Create a list containing 25 int type data. Using for loop and if-else condition print if the element is\n",
    "divisible by 3 or not. \"\"\"\n",
    "\n",
    "list = [1, 2, 3, 4, 5, 6, 7, 8, 9, 10, 11, 12, 13, 14, 15, 16, 17, 18, 19, 20, 21, 22, 23, 24, 25,]\n",
    "for num in list:\n",
    "    if num % 3 ==  0:\n",
    "        print(num, \"is divisible by 3\")\n",
    "else :\n",
    "        print(num, \"is not divisible by 3\")"
   ]
  },
  {
   "cell_type": "code",
   "execution_count": 13,
   "id": "042b8aa4-5f12-47dd-a994-e91ee91cb018",
   "metadata": {},
   "outputs": [
    {
     "data": {
      "text/plain": [
       "list"
      ]
     },
     "execution_count": 13,
     "metadata": {},
     "output_type": "execute_result"
    }
   ],
   "source": [
    "\"\"\" Q7. What do you understand about mutable and immutable data types? Give examples for both showing\n",
    "this property. \"\"\"\n",
    "\n",
    "\"\"\"\n",
    "Mutable data types are those data types for which we can make any changes at a particular index without changing the identity of the data type.\n",
    "Immutable data types are those in which we can't make changes at any particular index once it is defined. \n",
    "\"\"\"\n",
    "# e.g for Mutable Data type is \"list\"\n",
    "z = [2, -3, True, \"India\", -9+7j, 23.54, False]\n",
    "type(z)"
   ]
  },
  {
   "cell_type": "code",
   "execution_count": 14,
   "id": "79869609-4227-4271-87b8-3c4bacc55b26",
   "metadata": {},
   "outputs": [
    {
     "data": {
      "text/plain": [
       "'India'"
      ]
     },
     "execution_count": 14,
     "metadata": {},
     "output_type": "execute_result"
    }
   ],
   "source": [
    "# we have assigned list data type to a variable z,now we will look if this data type is mutable or not 'Immutable'.\n",
    "# for that we would first decide at which index we have to change, then we would select that index and try to change at that particular index.\n",
    "\n",
    "z[3]"
   ]
  },
  {
   "cell_type": "code",
   "execution_count": 15,
   "id": "37adb9c1-c4e6-4dcd-bf53-f4b2e7429cd3",
   "metadata": {},
   "outputs": [],
   "source": [
    "\"\"\" python assign index to data types internally and it can be forward indexing or backward indexing, hence we have taken out that element which\n",
    "    is at 3rd index in the list data type and we would try to change it with some other element.\n",
    "\"\"\"\n",
    "z[3] = \"Hindustan\""
   ]
  },
  {
   "cell_type": "code",
   "execution_count": 16,
   "id": "4d3ab876-365a-4406-b532-c2385aeeb11d",
   "metadata": {},
   "outputs": [
    {
     "data": {
      "text/plain": [
       "[2, -3, True, 'Hindustan', (-9+7j), 23.54, False]"
      ]
     },
     "execution_count": 16,
     "metadata": {},
     "output_type": "execute_result"
    }
   ],
   "source": [
    "z"
   ]
  },
  {
   "cell_type": "code",
   "execution_count": 10,
   "id": "d291745f-6f87-4d08-8c66-28a5ec0075ca",
   "metadata": {},
   "outputs": [
    {
     "data": {
      "text/plain": [
       "str"
      ]
     },
     "execution_count": 10,
     "metadata": {},
     "output_type": "execute_result"
    }
   ],
   "source": [
    "\"\"\" It changes the element at index 3 of z data type from 'India' to 'Hindustan'. Hence it is a Mutabale Data type. i.e list data type, and there\n",
    "are many object that are mutable. \"\"\"\n",
    "\n",
    "# e.g. for immutable data type is 'string'\n",
    "y = \"PwSkills\"\n",
    "type(y)"
   ]
  },
  {
   "cell_type": "code",
   "execution_count": 13,
   "id": "dd107c43-29c1-459c-b429-e73eeb40279e",
   "metadata": {},
   "outputs": [
    {
     "data": {
      "text/plain": [
       "'w'"
      ]
     },
     "execution_count": 13,
     "metadata": {},
     "output_type": "execute_result"
    }
   ],
   "source": [
    "# we ahve assigned string data type to a variable y, now we will look if thus data type is immutable or mutable.\n",
    "# as in previous example we would select any particular index and will try to change at that index.\n",
    "\n",
    "y[1]"
   ]
  },
  {
   "cell_type": "code",
   "execution_count": 16,
   "id": "360d9f99-3ad1-4e81-a229-032a7c489aa8",
   "metadata": {},
   "outputs": [
    {
     "ename": "TypeError",
     "evalue": "'str' object does not support item assignment",
     "output_type": "error",
     "traceback": [
      "\u001b[0;31m---------------------------------------------------------------------------\u001b[0m",
      "\u001b[0;31mTypeError\u001b[0m                                 Traceback (most recent call last)",
      "Cell \u001b[0;32mIn[16], line 1\u001b[0m\n\u001b[0;32m----> 1\u001b[0m \u001b[43my\u001b[49m\u001b[43m[\u001b[49m\u001b[38;5;241;43m1\u001b[39;49m\u001b[43m]\u001b[49m \u001b[38;5;241m=\u001b[39m \u001b[38;5;124m\"\u001b[39m\u001b[38;5;124mk\u001b[39m\u001b[38;5;124m\"\u001b[39m\n",
      "\u001b[0;31mTypeError\u001b[0m: 'str' object does not support item assignment"
     ]
    }
   ],
   "source": [
    "y[1] = \"k\""
   ]
  },
  {
   "cell_type": "code",
   "execution_count": null,
   "id": "63e0b07b-aab6-40be-851e-ef2c711a44e7",
   "metadata": {},
   "outputs": [],
   "source": [
    "# Clearly it says 'str' object does not support item assignment, Hence this is the example of Immutable Data Type."
   ]
  }
 ],
 "metadata": {
  "kernelspec": {
   "display_name": "Python 3 (ipykernel)",
   "language": "python",
   "name": "python3"
  },
  "language_info": {
   "codemirror_mode": {
    "name": "ipython",
    "version": 3
   },
   "file_extension": ".py",
   "mimetype": "text/x-python",
   "name": "python",
   "nbconvert_exporter": "python",
   "pygments_lexer": "ipython3",
   "version": "3.10.8"
  }
 },
 "nbformat": 4,
 "nbformat_minor": 5
}
